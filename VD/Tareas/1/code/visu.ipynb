{
 "cells": [
  {
   "cell_type": "code",
   "execution_count": null,
   "metadata": {},
   "outputs": [],
   "source": [
    "import matplotlib.pyplot as plt\n",
    "import pandas as pd\n",
    "\n",
    "# Cargar los datos desde el archivo Excel\n",
    "data = pd.read_excel('danbrown.xlsx')\n",
    "\n",
    "# Calcular el ratio de ventas por obra publicada\n",
    "data['Ratio'] = data['Copias vendidas'] / data['Obras publicadas']\n",
    "\n",
    "# Definir los colores para cada autor\n",
    "colors = {'Dan Brown': 'red', 'Stephen King': 'blue', 'JRR Tolkien': 'green'}\n",
    "\n",
    "# Calcular el tamaño de la burbuja en función del ratio\n",
    "max_size = 1000  # Tamaño máximo de la burbuja\n",
    "min_size = 100   # Tamaño mínimo de la burbuja\n",
    "data['Bubble Size'] = min_size + (max_size - min_size) * (data['Ratio'] - data['Ratio'].min()) / (data['Ratio'].max() - data['Ratio'].min())\n",
    "\n",
    "# Crear el gráfico de burbujas\n",
    "plt.scatter(data['Obras publicadas'], data['Copias vendidas'], s=data['Bubble Size'], c=[colors[autor] for autor in data['Autor']], alpha=0.5)\n",
    "\n",
    "# Anotar el ratio de ventas dentro de cada burbuja\n",
    "for i in range(len(data)):\n",
    "    plt.text(data['Obras publicadas'][i], data['Copias vendidas'][i], f'{data[\"Ratio\"][i]:.2f}', ha='center', va='center', fontdict={'family': 'serif', 'weight': 'bold', 'size': 10})\n",
    "\n",
    "# Configurar el gráfico\n",
    "plt.xlabel('Obras publicadas')\n",
    "plt.ylabel('Copias vendidas')\n",
    "plt.title('Comparación de Autores: Copias vendidas por Obras Publicadas')\n",
    "\n",
    "# Mostrar el gráfico\n",
    "plt.show()\n"
   ]
  },
  {
   "cell_type": "code",
   "execution_count": null,
   "metadata": {},
   "outputs": [],
   "source": [
    "import matplotlib.pyplot as plt\n",
    "import pandas as pd\n",
    "import matplotlib.patches as mpatches\n",
    "\n",
    "\n",
    "\n",
    "# Cargar los datos desde el archivo Excel\n",
    "data = pd.read_excel('danbrown.xlsx')\n",
    "\n",
    "# Calcular el ratio de ventas por obra publicada\n",
    "data['Ratio'] = data['Copias vendidas'] / data['Obras publicadas']\n",
    "\n",
    "# Definir los colores para cada autor\n",
    "colors = {'Dan Brown': '#74a7e4', 'Stephen King': '#eced87', 'JRR Tolkien': '#927785'}\n",
    "\n",
    "\n",
    "# Escalar el tamaño de las burbujas según el ratio de ventas por obra publicada\n",
    "min_size = 50  # Tamaño mínimo de la burbuja\n",
    "max_size = 500  # Tamaño máximo de la burbuja\n",
    "data['Bubble Size'] = min_size + (max_size - min_size) * (data['Ratio'] - data['Ratio'].min()) / (data['Ratio'].max() - data['Ratio'].min())\n",
    "\n",
    "for autor in data['Autor'].unique():\n",
    "    subset = data[data['Autor'] == autor]\n",
    "    plt.scatter(subset['Obras publicadas'], subset['Copias vendidas'], s=subset['Bubble Size'], label = autor, color=colors[autor], alpha = 1)\n",
    "\n",
    "legend_elements = [mpatches.Patch(color=color, label=autor) for autor, color in colors.items()]\n",
    "plt.legend(handles=legend_elements, title='Autor')\n",
    "\n",
    "# Anotar el ratio de ventas dentro de cada burbuja\n",
    "for i in range(len(data)):\n",
    "    plt.text(data['Obras publicadas'][i], data['Copias vendidas'][i], f'{data[\"Ratio\"][i]:.2f}', ha='center', va='center', fontdict={'family': 'serif', 'weight': 'bold', 'size': 10})\n",
    "\n",
    "# Configurar el gráfico\n",
    "plt.xlabel('Obras publicadas')\n",
    "plt.ylabel('Copias vendidas [Millones de unidades]')\n",
    "plt.title('Tasa de Copias vendidas/Obras publicadas')\n",
    "\n",
    "# Mostrar el gráfico\n",
    "plt.show()\n"
   ]
  },
  {
   "cell_type": "code",
   "execution_count": 2,
   "metadata": {},
   "outputs": [
    {
     "name": "stdout",
     "output_type": "stream",
     "text": [
      "     Marca                     Stat     Score\n",
      "0   Toyota        Potencia promedio  1.944737\n",
      "1   Toyota       Promedio de ventas  9.812280\n",
      "2   Toyota  Premios al Auto del año  4.000000\n",
      "3   Toyota   Problemas por vehiculo  1.320000\n",
      "4   Toyota   Indice de satisfaccion  8.400000\n",
      "5    Honda        Potencia promedio  1.540909\n",
      "6    Honda       Promedio de ventas  4.239713\n",
      "7    Honda  Premios al Auto del año  1.000000\n",
      "8    Honda   Problemas por vehiculo  1.570000\n",
      "9    Honda   Indice de satisfaccion  8.200000\n",
      "10   Mazda        Potencia promedio  1.858000\n",
      "11   Mazda       Promedio de ventas  1.140000\n",
      "12   Mazda  Premios al Auto del año  1.000000\n",
      "13   Mazda   Problemas por vehiculo  1.620000\n",
      "14   Mazda   Indice de satisfaccion  8.300000\n"
     ]
    },
    {
     "data": {
      "application/vnd.plotly.v1+json": {
       "config": {
        "plotlyServerURL": "https://plot.ly"
       },
       "data": [
        {
         "fill": "toself",
         "hovertemplate": "Marca=Toyota<br>Score=%{r}<br>Stat=%{theta}<extra></extra>",
         "legendgroup": "Toyota",
         "line": {
          "color": "#3b528b",
          "dash": "solid"
         },
         "marker": {
          "symbol": "circle"
         },
         "mode": "lines",
         "name": "Toyota",
         "r": [
          1.9447368421052633,
          9.812279666666667,
          4,
          1.32,
          8.4,
          1.9447368421052633
         ],
         "showlegend": true,
         "subplot": "polar",
         "theta": [
          "Potencia promedio",
          "Promedio de ventas",
          "Premios al Auto del año",
          "Problemas por vehiculo",
          "Indice de satisfaccion",
          "Potencia promedio"
         ],
         "type": "scatterpolar"
        },
        {
         "fill": "toself",
         "hovertemplate": "Marca=Honda<br>Score=%{r}<br>Stat=%{theta}<extra></extra>",
         "legendgroup": "Honda",
         "line": {
          "color": "#440154",
          "dash": "solid"
         },
         "marker": {
          "symbol": "circle"
         },
         "mode": "lines",
         "name": "Honda",
         "r": [
          1.540909090909091,
          4.239713,
          1,
          1.57,
          8.2,
          1.540909090909091
         ],
         "showlegend": true,
         "subplot": "polar",
         "theta": [
          "Potencia promedio",
          "Promedio de ventas",
          "Premios al Auto del año",
          "Problemas por vehiculo",
          "Indice de satisfaccion",
          "Potencia promedio"
         ],
         "type": "scatterpolar"
        },
        {
         "fill": "toself",
         "hovertemplate": "Marca=Mazda<br>Score=%{r}<br>Stat=%{theta}<extra></extra>",
         "legendgroup": "Mazda",
         "line": {
          "color": "#fde725",
          "dash": "solid"
         },
         "marker": {
          "symbol": "circle"
         },
         "mode": "lines",
         "name": "Mazda",
         "r": [
          1.858,
          1.14,
          1,
          1.62,
          8.3,
          1.858
         ],
         "showlegend": true,
         "subplot": "polar",
         "theta": [
          "Potencia promedio",
          "Promedio de ventas",
          "Premios al Auto del año",
          "Problemas por vehiculo",
          "Indice de satisfaccion",
          "Potencia promedio"
         ],
         "type": "scatterpolar"
        }
       ],
       "layout": {
        "legend": {
         "title": {
          "text": "Marca"
         },
         "tracegroupgap": 0
        },
        "margin": {
         "t": 60
        },
        "polar": {
         "angularaxis": {
          "direction": "clockwise",
          "rotation": 90
         },
         "domain": {
          "x": [
           0,
           1
          ],
          "y": [
           0,
           1
          ]
         }
        },
        "template": {
         "data": {
          "bar": [
           {
            "error_x": {
             "color": "#2a3f5f"
            },
            "error_y": {
             "color": "#2a3f5f"
            },
            "marker": {
             "line": {
              "color": "#E5ECF6",
              "width": 0.5
             },
             "pattern": {
              "fillmode": "overlay",
              "size": 10,
              "solidity": 0.2
             }
            },
            "type": "bar"
           }
          ],
          "barpolar": [
           {
            "marker": {
             "line": {
              "color": "#E5ECF6",
              "width": 0.5
             },
             "pattern": {
              "fillmode": "overlay",
              "size": 10,
              "solidity": 0.2
             }
            },
            "type": "barpolar"
           }
          ],
          "carpet": [
           {
            "aaxis": {
             "endlinecolor": "#2a3f5f",
             "gridcolor": "white",
             "linecolor": "white",
             "minorgridcolor": "white",
             "startlinecolor": "#2a3f5f"
            },
            "baxis": {
             "endlinecolor": "#2a3f5f",
             "gridcolor": "white",
             "linecolor": "white",
             "minorgridcolor": "white",
             "startlinecolor": "#2a3f5f"
            },
            "type": "carpet"
           }
          ],
          "choropleth": [
           {
            "colorbar": {
             "outlinewidth": 0,
             "ticks": ""
            },
            "type": "choropleth"
           }
          ],
          "contour": [
           {
            "colorbar": {
             "outlinewidth": 0,
             "ticks": ""
            },
            "colorscale": [
             [
              0,
              "#0d0887"
             ],
             [
              0.1111111111111111,
              "#46039f"
             ],
             [
              0.2222222222222222,
              "#7201a8"
             ],
             [
              0.3333333333333333,
              "#9c179e"
             ],
             [
              0.4444444444444444,
              "#bd3786"
             ],
             [
              0.5555555555555556,
              "#d8576b"
             ],
             [
              0.6666666666666666,
              "#ed7953"
             ],
             [
              0.7777777777777778,
              "#fb9f3a"
             ],
             [
              0.8888888888888888,
              "#fdca26"
             ],
             [
              1,
              "#f0f921"
             ]
            ],
            "type": "contour"
           }
          ],
          "contourcarpet": [
           {
            "colorbar": {
             "outlinewidth": 0,
             "ticks": ""
            },
            "type": "contourcarpet"
           }
          ],
          "heatmap": [
           {
            "colorbar": {
             "outlinewidth": 0,
             "ticks": ""
            },
            "colorscale": [
             [
              0,
              "#0d0887"
             ],
             [
              0.1111111111111111,
              "#46039f"
             ],
             [
              0.2222222222222222,
              "#7201a8"
             ],
             [
              0.3333333333333333,
              "#9c179e"
             ],
             [
              0.4444444444444444,
              "#bd3786"
             ],
             [
              0.5555555555555556,
              "#d8576b"
             ],
             [
              0.6666666666666666,
              "#ed7953"
             ],
             [
              0.7777777777777778,
              "#fb9f3a"
             ],
             [
              0.8888888888888888,
              "#fdca26"
             ],
             [
              1,
              "#f0f921"
             ]
            ],
            "type": "heatmap"
           }
          ],
          "heatmapgl": [
           {
            "colorbar": {
             "outlinewidth": 0,
             "ticks": ""
            },
            "colorscale": [
             [
              0,
              "#0d0887"
             ],
             [
              0.1111111111111111,
              "#46039f"
             ],
             [
              0.2222222222222222,
              "#7201a8"
             ],
             [
              0.3333333333333333,
              "#9c179e"
             ],
             [
              0.4444444444444444,
              "#bd3786"
             ],
             [
              0.5555555555555556,
              "#d8576b"
             ],
             [
              0.6666666666666666,
              "#ed7953"
             ],
             [
              0.7777777777777778,
              "#fb9f3a"
             ],
             [
              0.8888888888888888,
              "#fdca26"
             ],
             [
              1,
              "#f0f921"
             ]
            ],
            "type": "heatmapgl"
           }
          ],
          "histogram": [
           {
            "marker": {
             "pattern": {
              "fillmode": "overlay",
              "size": 10,
              "solidity": 0.2
             }
            },
            "type": "histogram"
           }
          ],
          "histogram2d": [
           {
            "colorbar": {
             "outlinewidth": 0,
             "ticks": ""
            },
            "colorscale": [
             [
              0,
              "#0d0887"
             ],
             [
              0.1111111111111111,
              "#46039f"
             ],
             [
              0.2222222222222222,
              "#7201a8"
             ],
             [
              0.3333333333333333,
              "#9c179e"
             ],
             [
              0.4444444444444444,
              "#bd3786"
             ],
             [
              0.5555555555555556,
              "#d8576b"
             ],
             [
              0.6666666666666666,
              "#ed7953"
             ],
             [
              0.7777777777777778,
              "#fb9f3a"
             ],
             [
              0.8888888888888888,
              "#fdca26"
             ],
             [
              1,
              "#f0f921"
             ]
            ],
            "type": "histogram2d"
           }
          ],
          "histogram2dcontour": [
           {
            "colorbar": {
             "outlinewidth": 0,
             "ticks": ""
            },
            "colorscale": [
             [
              0,
              "#0d0887"
             ],
             [
              0.1111111111111111,
              "#46039f"
             ],
             [
              0.2222222222222222,
              "#7201a8"
             ],
             [
              0.3333333333333333,
              "#9c179e"
             ],
             [
              0.4444444444444444,
              "#bd3786"
             ],
             [
              0.5555555555555556,
              "#d8576b"
             ],
             [
              0.6666666666666666,
              "#ed7953"
             ],
             [
              0.7777777777777778,
              "#fb9f3a"
             ],
             [
              0.8888888888888888,
              "#fdca26"
             ],
             [
              1,
              "#f0f921"
             ]
            ],
            "type": "histogram2dcontour"
           }
          ],
          "mesh3d": [
           {
            "colorbar": {
             "outlinewidth": 0,
             "ticks": ""
            },
            "type": "mesh3d"
           }
          ],
          "parcoords": [
           {
            "line": {
             "colorbar": {
              "outlinewidth": 0,
              "ticks": ""
             }
            },
            "type": "parcoords"
           }
          ],
          "pie": [
           {
            "automargin": true,
            "type": "pie"
           }
          ],
          "scatter": [
           {
            "fillpattern": {
             "fillmode": "overlay",
             "size": 10,
             "solidity": 0.2
            },
            "type": "scatter"
           }
          ],
          "scatter3d": [
           {
            "line": {
             "colorbar": {
              "outlinewidth": 0,
              "ticks": ""
             }
            },
            "marker": {
             "colorbar": {
              "outlinewidth": 0,
              "ticks": ""
             }
            },
            "type": "scatter3d"
           }
          ],
          "scattercarpet": [
           {
            "marker": {
             "colorbar": {
              "outlinewidth": 0,
              "ticks": ""
             }
            },
            "type": "scattercarpet"
           }
          ],
          "scattergeo": [
           {
            "marker": {
             "colorbar": {
              "outlinewidth": 0,
              "ticks": ""
             }
            },
            "type": "scattergeo"
           }
          ],
          "scattergl": [
           {
            "marker": {
             "colorbar": {
              "outlinewidth": 0,
              "ticks": ""
             }
            },
            "type": "scattergl"
           }
          ],
          "scattermapbox": [
           {
            "marker": {
             "colorbar": {
              "outlinewidth": 0,
              "ticks": ""
             }
            },
            "type": "scattermapbox"
           }
          ],
          "scatterpolar": [
           {
            "marker": {
             "colorbar": {
              "outlinewidth": 0,
              "ticks": ""
             }
            },
            "type": "scatterpolar"
           }
          ],
          "scatterpolargl": [
           {
            "marker": {
             "colorbar": {
              "outlinewidth": 0,
              "ticks": ""
             }
            },
            "type": "scatterpolargl"
           }
          ],
          "scatterternary": [
           {
            "marker": {
             "colorbar": {
              "outlinewidth": 0,
              "ticks": ""
             }
            },
            "type": "scatterternary"
           }
          ],
          "surface": [
           {
            "colorbar": {
             "outlinewidth": 0,
             "ticks": ""
            },
            "colorscale": [
             [
              0,
              "#0d0887"
             ],
             [
              0.1111111111111111,
              "#46039f"
             ],
             [
              0.2222222222222222,
              "#7201a8"
             ],
             [
              0.3333333333333333,
              "#9c179e"
             ],
             [
              0.4444444444444444,
              "#bd3786"
             ],
             [
              0.5555555555555556,
              "#d8576b"
             ],
             [
              0.6666666666666666,
              "#ed7953"
             ],
             [
              0.7777777777777778,
              "#fb9f3a"
             ],
             [
              0.8888888888888888,
              "#fdca26"
             ],
             [
              1,
              "#f0f921"
             ]
            ],
            "type": "surface"
           }
          ],
          "table": [
           {
            "cells": {
             "fill": {
              "color": "#EBF0F8"
             },
             "line": {
              "color": "white"
             }
            },
            "header": {
             "fill": {
              "color": "#C8D4E3"
             },
             "line": {
              "color": "white"
             }
            },
            "type": "table"
           }
          ]
         },
         "layout": {
          "annotationdefaults": {
           "arrowcolor": "#2a3f5f",
           "arrowhead": 0,
           "arrowwidth": 1
          },
          "autotypenumbers": "strict",
          "coloraxis": {
           "colorbar": {
            "outlinewidth": 0,
            "ticks": ""
           }
          },
          "colorscale": {
           "diverging": [
            [
             0,
             "#8e0152"
            ],
            [
             0.1,
             "#c51b7d"
            ],
            [
             0.2,
             "#de77ae"
            ],
            [
             0.3,
             "#f1b6da"
            ],
            [
             0.4,
             "#fde0ef"
            ],
            [
             0.5,
             "#f7f7f7"
            ],
            [
             0.6,
             "#e6f5d0"
            ],
            [
             0.7,
             "#b8e186"
            ],
            [
             0.8,
             "#7fbc41"
            ],
            [
             0.9,
             "#4d9221"
            ],
            [
             1,
             "#276419"
            ]
           ],
           "sequential": [
            [
             0,
             "#0d0887"
            ],
            [
             0.1111111111111111,
             "#46039f"
            ],
            [
             0.2222222222222222,
             "#7201a8"
            ],
            [
             0.3333333333333333,
             "#9c179e"
            ],
            [
             0.4444444444444444,
             "#bd3786"
            ],
            [
             0.5555555555555556,
             "#d8576b"
            ],
            [
             0.6666666666666666,
             "#ed7953"
            ],
            [
             0.7777777777777778,
             "#fb9f3a"
            ],
            [
             0.8888888888888888,
             "#fdca26"
            ],
            [
             1,
             "#f0f921"
            ]
           ],
           "sequentialminus": [
            [
             0,
             "#0d0887"
            ],
            [
             0.1111111111111111,
             "#46039f"
            ],
            [
             0.2222222222222222,
             "#7201a8"
            ],
            [
             0.3333333333333333,
             "#9c179e"
            ],
            [
             0.4444444444444444,
             "#bd3786"
            ],
            [
             0.5555555555555556,
             "#d8576b"
            ],
            [
             0.6666666666666666,
             "#ed7953"
            ],
            [
             0.7777777777777778,
             "#fb9f3a"
            ],
            [
             0.8888888888888888,
             "#fdca26"
            ],
            [
             1,
             "#f0f921"
            ]
           ]
          },
          "colorway": [
           "#636efa",
           "#EF553B",
           "#00cc96",
           "#ab63fa",
           "#FFA15A",
           "#19d3f3",
           "#FF6692",
           "#B6E880",
           "#FF97FF",
           "#FECB52"
          ],
          "font": {
           "color": "#2a3f5f"
          },
          "geo": {
           "bgcolor": "white",
           "lakecolor": "white",
           "landcolor": "#E5ECF6",
           "showlakes": true,
           "showland": true,
           "subunitcolor": "white"
          },
          "hoverlabel": {
           "align": "left"
          },
          "hovermode": "closest",
          "mapbox": {
           "style": "light"
          },
          "paper_bgcolor": "white",
          "plot_bgcolor": "#E5ECF6",
          "polar": {
           "angularaxis": {
            "gridcolor": "white",
            "linecolor": "white",
            "ticks": ""
           },
           "bgcolor": "#E5ECF6",
           "radialaxis": {
            "gridcolor": "white",
            "linecolor": "white",
            "ticks": ""
           }
          },
          "scene": {
           "xaxis": {
            "backgroundcolor": "#E5ECF6",
            "gridcolor": "white",
            "gridwidth": 2,
            "linecolor": "white",
            "showbackground": true,
            "ticks": "",
            "zerolinecolor": "white"
           },
           "yaxis": {
            "backgroundcolor": "#E5ECF6",
            "gridcolor": "white",
            "gridwidth": 2,
            "linecolor": "white",
            "showbackground": true,
            "ticks": "",
            "zerolinecolor": "white"
           },
           "zaxis": {
            "backgroundcolor": "#E5ECF6",
            "gridcolor": "white",
            "gridwidth": 2,
            "linecolor": "white",
            "showbackground": true,
            "ticks": "",
            "zerolinecolor": "white"
           }
          },
          "shapedefaults": {
           "line": {
            "color": "#2a3f5f"
           }
          },
          "ternary": {
           "aaxis": {
            "gridcolor": "white",
            "linecolor": "white",
            "ticks": ""
           },
           "baxis": {
            "gridcolor": "white",
            "linecolor": "white",
            "ticks": ""
           },
           "bgcolor": "#E5ECF6",
           "caxis": {
            "gridcolor": "white",
            "linecolor": "white",
            "ticks": ""
           }
          },
          "title": {
           "x": 0.05
          },
          "xaxis": {
           "automargin": true,
           "gridcolor": "white",
           "linecolor": "white",
           "ticks": "",
           "title": {
            "standoff": 15
           },
           "zerolinecolor": "white",
           "zerolinewidth": 2
          },
          "yaxis": {
           "automargin": true,
           "gridcolor": "white",
           "linecolor": "white",
           "ticks": "",
           "title": {
            "standoff": 15
           },
           "zerolinecolor": "white",
           "zerolinewidth": 2
          }
         }
        },
        "title": {
         "text": "Comparación de marcas: Toyota, Honda y Mazda (2021-2023)",
         "x": 0.5
        },
        "xaxis": {
         "title": {
          "text": "Stat"
         }
        },
        "yaxis": {
         "title": {
          "text": "Score"
         }
        }
       }
      }
     },
     "metadata": {},
     "output_type": "display_data"
    }
   ],
   "source": [
    "#GRAFICO MARCAS FINAL\n",
    "\n",
    "import pandas as pd\n",
    "import plotly.express as px\n",
    "\n",
    "# Cargar los datos del archivo 2023 Car Dataset.csv\n",
    "car_data = pd.read_csv(\"C:/Users/Dade/OneDrive - Universidad Técnica Federico Santa María/2024/2024-1/VD/Tareas/1/code/2023 Car Dataset.csv\")\n",
    "\n",
    "# Eliminar espacios en los nombres de las columnas\n",
    "car_data.columns = car_data.columns.str.strip()\n",
    "\n",
    "# Convertir los valores de la columna Horsepower a enteros\n",
    "car_data['Horsepower'] = car_data['Horsepower'].astype(int)\n",
    "\n",
    "\n",
    "# Eliminar espacios en blanco alrededor de los valores en la columna Car Make\n",
    "car_data['Car Make'] = car_data['Car Make'].str.strip()\n",
    "\n",
    "toyota_data = car_data[car_data['Car Make'] == 'Toyota']\n",
    "toyota_avg_horsepower = toyota_data['Horsepower'].mean()/100\n",
    "#print(toyota_avg_horsepower)\n",
    "\n",
    "honda_data = car_data[car_data['Car Make'] == 'Honda']\n",
    "honda_avg_horsepower = honda_data['Horsepower'].mean()/100\n",
    "#print(honda_avg_horsepower)\n",
    "\n",
    "mazda_data = car_data[car_data['Car Make'] == 'Mazda']\n",
    "mazda_avg_horsepower = mazda_data['Horsepower'].mean()/100\n",
    "#print(mazda_avg_horsepower)\n",
    "\n",
    "\n",
    "# Cargar los datos del archivo .xlsx\n",
    "marca_data = pd.read_excel(\"C:/Users/Dade/OneDrive - Universidad Técnica Federico Santa María/2024/2024-1/VD/Tareas/1/code/toyota.xlsx\")\n",
    "\n",
    "# Obtener los promedios de la columna 'Promedio' del archivo Excel para cada marca\n",
    "marca_data.set_index('Marca', inplace=True)\n",
    "promedios = marca_data['Promedio']\n",
    "\n",
    "# Obtener los premios al auto del año para cada marca del archivo Excel\n",
    "mvps = marca_data['MVP']\n",
    "\n",
    "#Obtener problemas por vehiculo e indice de satisfacción para cada marca\n",
    "ppv = marca_data['Problemas por Vehiculo']\n",
    "\n",
    "satisfaccion = marca_data['Satisfaccion [1-10]']\n",
    "\n",
    "# Guardar el promedio de ventas de cada marca en variables\n",
    "promedio_toyota = promedios['Toyota']\n",
    "promedio_honda = promedios['Honda']\n",
    "promedio_mazda = promedios['Mazda']\n",
    "\n",
    "# Guardar la cantidad de MVPs de cada marca en variables\n",
    "mvp_toyota = mvps['Toyota']\n",
    "mvp_honda = mvps['Honda']\n",
    "mvp_mazda = mvps['Mazda']\n",
    "\n",
    "ppv_toyota = ppv['Toyota']\n",
    "ppv_honda = ppv['Honda']\n",
    "ppv_mazda = ppv['Mazda']\n",
    "\n",
    "satisfaccion_toyota = satisfaccion['Toyota']\n",
    "satisfaccion_honda = satisfaccion['Honda']\n",
    "satisfaccion_mazda = satisfaccion['Mazda']\n",
    "\n",
    "\n",
    "# Definir los colores para cada marca\n",
    "colores = {\n",
    "    'Mazda': '#fde725',\n",
    "    'Toyota': '#3b528b',\n",
    "    'Honda': '#440154',\n",
    "}\n",
    "\n",
    "\n",
    "data = pd.DataFrame({\n",
    "    'Marca':[\"Toyota\", \"Toyota\", \"Toyota\",\"Toyota\",\"Toyota\",\"Honda\",\"Honda\", \"Honda\", \"Honda\",\"Honda\",\"Mazda\",\"Mazda\", \"Mazda\",\"Mazda\",\"Mazda\"],\n",
    "    'Stat':[\"Potencia promedio\",\"Promedio de ventas\",\"Premios al Auto del año\",\"Problemas por vehiculo\",\"Indice de satisfaccion\",\n",
    "            \"Potencia promedio\",\"Promedio de ventas\",\"Premios al Auto del año\",\"Problemas por vehiculo\",\"Indice de satisfaccion\",\n",
    "            \"Potencia promedio\",\"Promedio de ventas\",\"Premios al Auto del año\",\"Problemas por vehiculo\",\"Indice de satisfaccion\"],\n",
    "    'Score':[toyota_avg_horsepower,promedio_toyota,mvp_toyota,ppv_toyota,satisfaccion_toyota,honda_avg_horsepower,promedio_honda,mvp_honda,ppv_honda,satisfaccion_honda,\n",
    "             mazda_avg_horsepower,promedio_mazda,mvp_mazda,ppv_mazda,satisfaccion_mazda]\n",
    "})\n",
    "\n",
    "\n",
    "print(data)\n",
    "\n",
    "# Trazar el gráfico polar con los datos normalizados\n",
    "fig = px.line_polar(data, r='Score', theta='Stat', color='Marca', line_close=True, color_discrete_map=colores)\n",
    "\n",
    "# Personaliza el gráfico\n",
    "fig.update_traces(fill='toself')  \n",
    "\n",
    "fig.update_layout(\n",
    "    title='Comparación de marcas: Toyota, Honda y Mazda (2021-2023)',\n",
    "    title_x=0.5,  # Ajusta la posición horizontal del título\n",
    "    xaxis=dict(title='Stat'),\n",
    "    yaxis=dict(title='Score')\n",
    ")\n"
   ]
  }
 ],
 "metadata": {
  "kernelspec": {
   "display_name": "Python 3",
   "language": "python",
   "name": "python3"
  },
  "language_info": {
   "codemirror_mode": {
    "name": "ipython",
    "version": 3
   },
   "file_extension": ".py",
   "mimetype": "text/x-python",
   "name": "python",
   "nbconvert_exporter": "python",
   "pygments_lexer": "ipython3",
   "version": "3.12.2"
  }
 },
 "nbformat": 4,
 "nbformat_minor": 2
}
